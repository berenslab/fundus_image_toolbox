{
 "cells": [
  {
   "cell_type": "markdown",
   "metadata": {},
   "source": [
    "### Predict fovea and optic disc location in fundus images"
   ]
  },
  {
   "cell_type": "code",
   "execution_count": null,
   "metadata": {},
   "outputs": [],
   "source": [
    "from fundus_image_toolbox.fovea_od_localization import ODFoveaLoader, ODFoveaModel, load_fovea_od_model, DEFAULT_CONFIG"
   ]
  },
  {
   "cell_type": "markdown",
   "metadata": {},
   "source": [
    "First, run the data preparation scripts in `fovea_od data preparation/` before proceding with this notebook."
   ]
  },
  {
   "cell_type": "markdown",
   "metadata": {},
   "source": [
    "#### **Option 1**: Train a model \n",
    "Skip to only evaluate a model. See below!"
   ]
  },
  {
   "cell_type": "markdown",
   "metadata": {},
   "source": [
    "Load default config and adjust as desired. If replicating the original model, keep the parameters as they are except for `device` and `data_root`, which should point to the folder that contains the dataset folders \"ADAM\", \"REFUGE\" and \"IDRID\"."
   ]
  },
  {
   "cell_type": "code",
   "execution_count": 7,
   "metadata": {},
   "outputs": [
    {
     "data": {
      "text/plain": [
       "namespace(batch_size=8,\n",
       "          data_root='../../',\n",
       "          device='cuda:0',\n",
       "          epochs=500,\n",
       "          img_size=350,\n",
       "          lr=0.0001,\n",
       "          model_type='efficientnet-b3',\n",
       "          seed=123,\n",
       "          testset_eval=True)"
      ]
     },
     "execution_count": 7,
     "metadata": {},
     "output_type": "execute_result"
    }
   ],
   "source": [
    "config = DEFAULT_CONFIG\n",
    "config"
   ]
  },
  {
   "cell_type": "code",
   "execution_count": 3,
   "metadata": {},
   "outputs": [],
   "source": [
    "config.data_root = \"/path_to_parent_data_dir/\"\n",
    "config.epochs = 1 # for testing\n",
    "# config.device = \"cpu\""
   ]
  },
  {
   "cell_type": "code",
   "execution_count": 4,
   "metadata": {},
   "outputs": [
    {
     "name": "stdout",
     "output_type": "stream",
     "text": [
      "Train dataset: 948\n",
      "Val dataset: 316\n",
      "Test dataset: 317\n"
     ]
    }
   ],
   "source": [
    "train_dataloader, val_dataloader, test_dataloader = ODFoveaLoader(config).get_dataloaders()"
   ]
  },
  {
   "cell_type": "code",
   "execution_count": 5,
   "metadata": {},
   "outputs": [
    {
     "name": "stdout",
     "output_type": "stream",
     "text": [
      "Initializing efficientnet-b3 on cuda:0\n"
     ]
    }
   ],
   "source": [
    "model = ODFoveaModel(config)"
   ]
  },
  {
   "cell_type": "code",
   "execution_count": 6,
   "metadata": {},
   "outputs": [
    {
     "name": "stderr",
     "output_type": "stream",
     "text": [
      "Epoch: 1 Training...:   0%|          | 0/119 [00:00<?, ?it/s]\n",
      "KeyboardInterrupt\n",
      "\n"
     ]
    }
   ],
   "source": [
    "model.train(train_dataloader, val_dataloader)"
   ]
  },
  {
   "cell_type": "markdown",
   "metadata": {},
   "source": [
    "#### **Option 2**: Run inference on images -OR- Evaluate on the test set <br>\n",
    "- Evaluation: Set `evaluate = True` and optionally set `plot = True` to plot the a grid of test set images with their predictions\n",
    "- Inference: Set `inference = True` and ignore the other parameters"
   ]
  },
  {
   "cell_type": "code",
   "execution_count": 7,
   "metadata": {},
   "outputs": [],
   "source": [
    "plot = False\n",
    "device = \"cpu\"\n",
    "\n",
    "# Choose your model:\n",
    "#  - \"default\" for the authors' model\n",
    "#  - \"latest\" for the latest model. If you trained a model, this is yours.\n",
    "#  - or a specific path to the directory containing a checkpoint\n",
    "checkpoint_dir = \"default\" "
   ]
  },
  {
   "cell_type": "code",
   "execution_count": 8,
   "metadata": {},
   "outputs": [
    {
     "name": "stdout",
     "output_type": "stream",
     "text": [
      "Loading model\n",
      "Initializing efficientnet-b3 on cpu\n",
      "Loading model from /gpfs01/berens/user/jgervelmeyer/fundus_image_toolbox/fundus_fovea_od_localization/fundus_fovea_od_localization/models/2024-05-07 11:13.05/multi_efficientnet-b3_best.pt\n",
      "Default model 2024-05-07 11:13.05 not found, downloading...\n",
      "Extracting weights...\n",
      "Removing tar file...\n",
      "Done\n",
      "/gpfs01/berens/user/jgervelmeyer/fundus_image_toolbox/fundus_fovea_od_localization/fundus_fovea_od_localization/models/2024-05-07 11:13.05/multi_efficientnet-b3_best.pt\n"
     ]
    }
   ],
   "source": [
    "print(\"Loading model\")\n",
    "model, checkpoint_path, test_dataloader = load_fovea_od_model(checkpoint_dir, device=device, return_test_dataloader=True)\n",
    "\n",
    "print(\"Evaluating model\")\n",
    "model.evaluate(test_dataloader, checkpoint_path)\n",
    "\n",
    "if plot:\n",
    "    model.plot_dist()\n",
    "    model.plot_loss()\n",
    "    model.plot_iou()\n",
    "    model.plot_grid(test_dataloader.dataset)"
   ]
  },
  {
   "cell_type": "code",
   "execution_count": null,
   "metadata": {},
   "outputs": [],
   "source": []
  }
 ],
 "metadata": {
  "kernelspec": {
   "display_name": "fovea",
   "language": "python",
   "name": "python3"
  },
  "language_info": {
   "codemirror_mode": {
    "name": "ipython",
    "version": 3
   },
   "file_extension": ".py",
   "mimetype": "text/x-python",
   "name": "python",
   "nbconvert_exporter": "python",
   "pygments_lexer": "ipython3",
   "version": "3.9.5"
  }
 },
 "nbformat": 4,
 "nbformat_minor": 2
}
