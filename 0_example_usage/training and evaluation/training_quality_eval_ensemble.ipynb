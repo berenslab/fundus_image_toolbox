{
 "cells": [
  {
   "cell_type": "code",
   "execution_count": null,
   "metadata": {},
   "outputs": [],
   "source": [
    "import matplotlib.pyplot as plt\n",
    "from sklearn.metrics import accuracy_score, f1_score, precision_score, recall_score, auc, roc_curve, precision_recall_curve\n",
    "from fundus_image_toolbox.quality_prediction import FundusQualityLoader, load_quality_ensemble, ensemble_predict_quality_from_dataloader"
   ]
  },
  {
   "cell_type": "markdown",
   "metadata": {},
   "source": [
    "### Evaluate the ensemble model on DrimDB and/or DeepDRiD"
   ]
  },
  {
   "cell_type": "markdown",
   "metadata": {},
   "source": [
    "Set the following as desired:"
   ]
  },
  {
   "cell_type": "code",
   "execution_count": 2,
   "metadata": {},
   "outputs": [],
   "source": [
    "device = \"cuda:0\"\n",
    "\n",
    "## Datasets\n",
    "## Note: When running for the first time, data will be copied to a local folder in the project directory.\n",
    "\n",
    "# DrimDB dir should contain \"Bad\", \"Good\" and \"Outliers\" folders\n",
    "drimdb_dir = \"../../fovea_detection/DrimDB/\"\n",
    "# DeepDRiD dir should contain \"regular_fundus_images\"\n",
    "deepdrid_dir = \"../../fovea_detection/DeepDRiD/\"\n",
    "\n",
    "# Threshold for binary classification: below this value, the image is considered of low quality\n",
    "threshold = 0.5\n",
    "\n",
    "# The model was trained on a development split of the joint \"drimdb\"-\"deepdrid-isbi2020\" datasets. \n",
    "# You can evaluate on its test split and/or on the individual test splits:\n",
    "# datasets = [[\"drimdb\", \"deepdrid-isbi2020\"], [\"drimdb\"], [\"deepdrid-isbi2020\"]]\n",
    "# E.g., to evaluate on the \"drimdb\" test split only, set:\n",
    "datasets = [[\"drimdb\"]]\n",
    "\n",
    "# Whether you want extra information to be printed\n",
    "verbose = False"
   ]
  },
  {
   "cell_type": "markdown",
   "metadata": {},
   "source": [
    "Now run the below code to evaluate the ensemble model."
   ]
  },
  {
   "cell_type": "code",
   "execution_count": 3,
   "metadata": {},
   "outputs": [
    {
     "name": "stdout",
     "output_type": "stream",
     "text": [
      "Model loaded from 2024-05-03 14-38-34\n",
      "Model loaded from 2024-05-03 14-25-19\n",
      "Model loaded from 2024-05-03 14-25-42\n",
      "Model loaded from 2024-05-03 14-58-37\n",
      "Model loaded from 2024-05-03 16-23-29\n",
      "Model loaded from 2024-05-03 15-28-00\n",
      "Model loaded from 2024-05-03 15-04-29\n",
      "Model loaded from 2024-05-06 20-25-14\n",
      "Model loaded from 2024-05-03 15-52-56\n",
      "Model loaded from 2024-05-03 15-59-31\n"
     ]
    }
   ],
   "source": [
    "ensemble = load_quality_ensemble(device=device)"
   ]
  },
  {
   "cell_type": "code",
   "execution_count": 4,
   "metadata": {},
   "outputs": [
    {
     "name": "stdout",
     "output_type": "stream",
     "text": [
      "######\n",
      " Using test splits from: ['drimdb'] datasets\n"
     ]
    },
    {
     "data": {
      "image/png": "[encoded data removed]",
      "text/plain": [
       "<Figure size 640x480 with 1 Axes>"
      ]
     },
     "metadata": {},
     "output_type": "display_data"
    },
    {
     "name": "stdout",
     "output_type": "stream",
     "text": [
      "AUROC: 1.00\n",
      "AUPRC: 1.00\n",
      "Accuracy: 1.00\n",
      "F1: 1.00\n",
      "Precision: 1.00\n",
      "Recall: 1.00\n",
      "\n"
     ]
    }
   ],
   "source": [
    "for ds in datasets:\n",
    "    print(f\"######\\n Using test splits from: {ds} datasets\")\n",
    "\n",
    "    data_config = ensemble[0].config\n",
    "    data_config.use_datasets = ds\n",
    "\n",
    "    _, _, test_dataloader = FundusQualityLoader(\n",
    "        data_config, verbose=verbose, drimdb_dir=drimdb_dir, deepdrid_dir=deepdrid_dir\n",
    "        ).get_dataloaders()\n",
    "\n",
    "    confs, preds, labels = ensemble_predict_quality_from_dataloader(\n",
    "        ensemble, test_dataloader, threshold=threshold, print_result=verbose\n",
    "        )\n",
    "\n",
    "    # Accuracy\n",
    "    accuracy = accuracy_score(labels, preds)\n",
    "\n",
    "    # F1\n",
    "    f1 = f1_score(labels, preds)\n",
    "\n",
    "    # Precision\n",
    "    precision = precision_score(labels, preds)\n",
    "\n",
    "    # Recall\n",
    "    recall = recall_score(labels, preds)\n",
    "\n",
    "    # ROCAUC and Plot ROC\n",
    "    fpr, tpr, _ = roc_curve(labels, confs)\n",
    "    auroc = auc(fpr, tpr)\n",
    "    fig, ax = plt.subplots()\n",
    "    ax.plot(fpr, tpr, label=f\"Ensemble (AUROC = {auroc:.2f})\")\n",
    "\n",
    "    # AUPRC and Plot AUPRC\n",
    "    precision_, recall_, _ = precision_recall_curve(labels, confs)\n",
    "    auprc = auc(recall_, precision_)\n",
    "    ax.plot(recall_, precision_, label=f\"Ensemble (AUPRC = {auprc:.2f})\")\n",
    "    ax.legend()\n",
    "    plt.show()\n",
    "\n",
    "    print(f\"AUROC: {auroc:.2f}\")\n",
    "    print(f\"AUPRC: {auprc:.2f}\")\n",
    "    print(f\"Accuracy: {accuracy:.2f}\")\n",
    "    print(f\"F1: {f1:.2f}\")\n",
    "    print(f\"Precision: {precision:.2f}\")\n",
    "    print(f\"Recall: {recall:.2f}\")\n",
    "    print()"
   ]
  },
  {
   "cell_type": "code",
   "execution_count": null,
   "metadata": {},
   "outputs": [],
   "source": []
  }
 ],
 "metadata": {
  "kernelspec": {
   "display_name": "SuperRetina",
   "language": "python",
   "name": "python3"
  },
  "language_info": {
   "codemirror_mode": {
    "name": "ipython",
    "version": 3
   },
   "file_extension": ".py",
   "mimetype": "text/x-python",
   "name": "python",
   "nbconvert_exporter": "python",
   "pygments_lexer": "ipython3",
   "version": "3.9.5"
  }
 },
 "nbformat": 4,
 "nbformat_minor": 2
}
