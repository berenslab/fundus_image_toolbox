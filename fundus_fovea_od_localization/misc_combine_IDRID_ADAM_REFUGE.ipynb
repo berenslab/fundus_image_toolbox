{
 "cells": [
  {
   "cell_type": "code",
   "execution_count": 7,
   "metadata": {},
   "outputs": [],
   "source": [
    "from pathlib import Path\n",
    "import pandas as pd\n",
    "from fundus_fovea_od_localization import DEFAULT_CSV_PATH"
   ]
  },
  {
   "cell_type": "markdown",
   "metadata": {},
   "source": [
    "### Combine ADAM, REFUGE and IDRID datasets\n",
    "- Note: Adam and Refuge offer optic disc masks instead of coordinates. Use the respective notebooks to extract the coordinates before using this notebook."
   ]
  },
  {
   "cell_type": "markdown",
   "metadata": {},
   "source": [
    "Set the `data_root` to the folder containing the extracted ADAM, REFUGE and IDRID datasets."
   ]
  },
  {
   "cell_type": "code",
   "execution_count": 8,
   "metadata": {},
   "outputs": [],
   "source": [
    "data_root = Path(\"../../fovea_detection/\")"
   ]
  },
  {
   "cell_type": "markdown",
   "metadata": {},
   "source": [
    "Now, just run the below code to combine the datasets. The combined metadata will be saved in the default path where the model will look for it."
   ]
  },
  {
   "cell_type": "markdown",
   "metadata": {},
   "source": [
    "ADAM"
   ]
  },
  {
   "cell_type": "code",
   "execution_count": 9,
   "metadata": {},
   "outputs": [],
   "source": [
    "## Read in ADAM labels\n",
    "path_to_adam_fovea_labels = data_root / 'ADAM' / 'DF-Annotation-Training400' / 'Training400' / 'Fovea_location.xlsx'\n",
    "path_to_adam_od_labels = data_root / 'ADAM_OD_location.xlsx'\n",
    "\n",
    "adam_fovea_labels_df = pd.read_excel(path_to_adam_fovea_labels, index_col='ID')\n",
    "adam_od_labels_df = pd.read_excel(path_to_adam_od_labels)\n",
    "\n",
    "# Exclude wrong fovea locations\n",
    "adam_fovea_labels_df = adam_fovea_labels_df[(adam_fovea_labels_df[['Fovea_X', 'Fovea_Y']] != 0).all(axis=1)]\n",
    "\n",
    "# Merge both dataframes\n",
    "adam_labels =  pd.merge(adam_fovea_labels_df, adam_od_labels_df, on='imgName')\n",
    "\n",
    "# Add path to images\n",
    "def add_imgpath(row):\n",
    "    image_name = row.imgName\n",
    "    adam_data_type = 'AMD' if image_name.startswith('A') else 'Non-AMD'\n",
    "    return data_root / 'ADAM' / 'AMD-Training400' / 'Training400' / adam_data_type / image_name\n",
    "\n",
    "# Add path to file\n",
    "adam_labels[\"path\"] = adam_labels.apply(add_imgpath, axis=1)\n"
   ]
  },
  {
   "cell_type": "markdown",
   "metadata": {},
   "source": [
    "REFUGE"
   ]
  },
  {
   "cell_type": "code",
   "execution_count": 10,
   "metadata": {},
   "outputs": [],
   "source": [
    "## Read in REFUGE labels\n",
    "path_to_refuge_fovea_labels_train = data_root / 'REFUGE' / 'Annotation-Training400' / 'Annotation-Training400' / 'Fovea_location.xlsx'\n",
    "path_to_refuge_fovea_labels_val = data_root / 'REFUGE' / 'REFUGE-Validation400-GT' / 'Fovea_locations.xlsx'\n",
    "path_to_refuge_od_labels = data_root / 'REFUGE_OD_location.xlsx'\n",
    "\n",
    "refuge_fovea_labels_train_df = pd.read_excel(path_to_refuge_fovea_labels_train, index_col='ID')\n",
    "refuge_fovea_labels_val_df = pd.read_excel(path_to_refuge_fovea_labels_val, index_col='ID')\n",
    "refuge_fovea_labels_df = pd.concat([refuge_fovea_labels_train_df, refuge_fovea_labels_val_df])\n",
    "refuge_od_labels_df = pd.read_excel(path_to_refuge_od_labels)\n",
    "\n",
    "# Exclude wrong fovea locations\n",
    "refuge_fovea_labels_df = refuge_fovea_labels_df[(refuge_fovea_labels_df[['Fovea_X', 'Fovea_Y']] != 0).all(axis=1)]\n",
    "\n",
    "# Merge both dataframes\n",
    "refuge_labels = pd.merge(refuge_fovea_labels_df, refuge_od_labels_df, on='ImgName')\n",
    "refuge_labels.rename(columns={'img_path': 'path', \"ImgName\": \"imgName\"}, inplace=True)"
   ]
  },
  {
   "cell_type": "markdown",
   "metadata": {},
   "source": [
    "IDRID"
   ]
  },
  {
   "cell_type": "code",
   "execution_count": 11,
   "metadata": {},
   "outputs": [],
   "source": [
    "## Read in IDRID labels\n",
    "path_to_idrid_labels = data_root / 'IDRID'/ '2. Groundtruths'\n",
    "idrid_fovea_labels_df_1 = pd.read_csv(path_to_idrid_labels / '2. Fovea Center Location' / 'IDRiD_Fovea_Center_Training Set_Markups.csv')\n",
    "idrid_fovea_labels_df_1[\"Image No\"] += \"_train\"\n",
    "idrid_fovea_labels_df_2 = pd.read_csv(path_to_idrid_labels / '2. Fovea Center Location' / 'IDRiD_Fovea_Center_Testing Set_Markups.csv')\n",
    "idrid_fovea_labels_df_2[\"Image No\"] += \"_test\"\n",
    "idrid_od_labels_df_1 = pd.read_csv(path_to_idrid_labels / '1. Optic Disc Center Location' / 'a. IDRiD_OD_Center_Training Set_Markups.csv')\n",
    "idrid_od_labels_df_1[\"Image No\"] += \"_train\"\n",
    "idrid_od_labels_df_2 = pd.read_csv(path_to_idrid_labels / '1. Optic Disc Center Location' / 'b. IDRiD_OD_Center_Testing Set_Markups.csv')\n",
    "idrid_od_labels_df_2[\"Image No\"] += \"_test\"\n",
    "\n",
    "idrid_fovea_labels_df = pd.concat([idrid_fovea_labels_df_1, idrid_fovea_labels_df_2])\n",
    "idrid_fovea_labels_df = idrid_fovea_labels_df.rename(columns={'Image No': 'imgName', 'X- Coordinate': 'Fovea_X', 'Y - Coordinate': 'Fovea_Y'})\n",
    "\n",
    "idrid_od_labels_df = pd.concat([idrid_od_labels_df_1, idrid_od_labels_df_2])\n",
    "idrid_od_labels_df = idrid_od_labels_df.rename(columns={'Image No': 'imgName', 'X- Coordinate': 'OD_X', 'Y - Coordinate': 'OD_Y'})\n",
    "\n",
    "# Merge both dataframes\n",
    "idrid_labels =  pd.merge(idrid_fovea_labels_df, idrid_od_labels_df, on='imgName')\n",
    "\n",
    "# Get rid of completely empty rows\n",
    "idrid_labels = idrid_labels.dropna(how='all')\n",
    "# and cols\n",
    "idrid_labels = idrid_labels.dropna(axis=1, how='all')\n",
    "\n",
    "# Add path to images\n",
    "def add_imgpath(row):\n",
    "    image_name = row.imgName\n",
    "    subfolder = 'a. Training Set' if image_name.endswith('train') else 'b. Testing Set'\n",
    "    p = data_root / 'IDRID' / '1. Original Images' / subfolder / str(image_name+'.jpg')\n",
    "    return p.__str__()\n",
    "\n",
    "idrid_labels[\"path\"] = idrid_labels.apply(add_imgpath, axis=1)\n",
    "\n",
    "# Remove _train / _test suffixes from image paths\n",
    "idrid_labels['path'] = idrid_labels['path'].str.replace('_train', '').str.replace('_test', '')"
   ]
  },
  {
   "cell_type": "markdown",
   "metadata": {},
   "source": [
    "Merge all datasets"
   ]
  },
  {
   "cell_type": "code",
   "execution_count": 12,
   "metadata": {},
   "outputs": [
    {
     "data": {
      "text/html": [
       "<div>\n",
       "<style scoped>\n",
       "    .dataframe tbody tr th:only-of-type {\n",
       "        vertical-align: middle;\n",
       "    }\n",
       "\n",
       "    .dataframe tbody tr th {\n",
       "        vertical-align: top;\n",
       "    }\n",
       "\n",
       "    .dataframe thead th {\n",
       "        text-align: right;\n",
       "    }\n",
       "</style>\n",
       "<table border=\"1\" class=\"dataframe\">\n",
       "  <thead>\n",
       "    <tr style=\"text-align: right;\">\n",
       "      <th></th>\n",
       "      <th>image_name</th>\n",
       "      <th>fovea_x</th>\n",
       "      <th>fovea_y</th>\n",
       "      <th>od_x</th>\n",
       "      <th>od_y</th>\n",
       "      <th>image_path</th>\n",
       "    </tr>\n",
       "  </thead>\n",
       "  <tbody>\n",
       "    <tr>\n",
       "      <th>0</th>\n",
       "      <td>A0001.jpg</td>\n",
       "      <td>1182.264278</td>\n",
       "      <td>1022.018842</td>\n",
       "      <td>278.688347</td>\n",
       "      <td>875.891829</td>\n",
       "      <td>../../fovea_detection/ADAM/AMD-Training400/Tra...</td>\n",
       "    </tr>\n",
       "    <tr>\n",
       "      <th>1</th>\n",
       "      <td>A0002.jpg</td>\n",
       "      <td>967.754046</td>\n",
       "      <td>1016.946655</td>\n",
       "      <td>162.407838</td>\n",
       "      <td>921.396775</td>\n",
       "      <td>../../fovea_detection/ADAM/AMD-Training400/Tra...</td>\n",
       "    </tr>\n",
       "    <tr>\n",
       "      <th>2</th>\n",
       "      <td>A0003.jpg</td>\n",
       "      <td>1220.206714</td>\n",
       "      <td>989.944033</td>\n",
       "      <td>537.757341</td>\n",
       "      <td>1004.166171</td>\n",
       "      <td>../../fovea_detection/ADAM/AMD-Training400/Tra...</td>\n",
       "    </tr>\n",
       "    <tr>\n",
       "      <th>3</th>\n",
       "      <td>A0004.jpg</td>\n",
       "      <td>1141.140888</td>\n",
       "      <td>1000.594955</td>\n",
       "      <td>334.903248</td>\n",
       "      <td>790.988073</td>\n",
       "      <td>../../fovea_detection/ADAM/AMD-Training400/Tra...</td>\n",
       "    </tr>\n",
       "    <tr>\n",
       "      <th>4</th>\n",
       "      <td>A0005.jpg</td>\n",
       "      <td>1127.371832</td>\n",
       "      <td>1071.109440</td>\n",
       "      <td>285.900172</td>\n",
       "      <td>889.936381</td>\n",
       "      <td>../../fovea_detection/ADAM/AMD-Training400/Tra...</td>\n",
       "    </tr>\n",
       "    <tr>\n",
       "      <th>...</th>\n",
       "      <td>...</td>\n",
       "      <td>...</td>\n",
       "      <td>...</td>\n",
       "      <td>...</td>\n",
       "      <td>...</td>\n",
       "      <td>...</td>\n",
       "    </tr>\n",
       "    <tr>\n",
       "      <th>795</th>\n",
       "      <td>V0396.jpg</td>\n",
       "      <td>1144.060000</td>\n",
       "      <td>835.200000</td>\n",
       "      <td>564.292598</td>\n",
       "      <td>802.953846</td>\n",
       "      <td>../../fovea_detection/REFUGE/REFUGE-Validation...</td>\n",
       "    </tr>\n",
       "    <tr>\n",
       "      <th>796</th>\n",
       "      <td>V0397.jpg</td>\n",
       "      <td>1155.050000</td>\n",
       "      <td>835.160000</td>\n",
       "      <td>476.217435</td>\n",
       "      <td>760.242040</td>\n",
       "      <td>../../fovea_detection/REFUGE/REFUGE-Validation...</td>\n",
       "    </tr>\n",
       "    <tr>\n",
       "      <th>797</th>\n",
       "      <td>V0398.jpg</td>\n",
       "      <td>1130.760000</td>\n",
       "      <td>865.070000</td>\n",
       "      <td>510.703242</td>\n",
       "      <td>826.372096</td>\n",
       "      <td>../../fovea_detection/REFUGE/REFUGE-Validation...</td>\n",
       "    </tr>\n",
       "    <tr>\n",
       "      <th>798</th>\n",
       "      <td>V0399.jpg</td>\n",
       "      <td>1032.000000</td>\n",
       "      <td>999.500000</td>\n",
       "      <td>430.232140</td>\n",
       "      <td>816.701711</td>\n",
       "      <td>../../fovea_detection/REFUGE/REFUGE-Validation...</td>\n",
       "    </tr>\n",
       "    <tr>\n",
       "      <th>799</th>\n",
       "      <td>V0400.jpg</td>\n",
       "      <td>941.870000</td>\n",
       "      <td>849.010000</td>\n",
       "      <td>259.830148</td>\n",
       "      <td>792.284755</td>\n",
       "      <td>../../fovea_detection/REFUGE/REFUGE-Validation...</td>\n",
       "    </tr>\n",
       "  </tbody>\n",
       "</table>\n",
       "<p>1581 rows × 6 columns</p>\n",
       "</div>"
      ],
      "text/plain": [
       "    image_name      fovea_x      fovea_y        od_x         od_y  \\\n",
       "0    A0001.jpg  1182.264278  1022.018842  278.688347   875.891829   \n",
       "1    A0002.jpg   967.754046  1016.946655  162.407838   921.396775   \n",
       "2    A0003.jpg  1220.206714   989.944033  537.757341  1004.166171   \n",
       "3    A0004.jpg  1141.140888  1000.594955  334.903248   790.988073   \n",
       "4    A0005.jpg  1127.371832  1071.109440  285.900172   889.936381   \n",
       "..         ...          ...          ...         ...          ...   \n",
       "795  V0396.jpg  1144.060000   835.200000  564.292598   802.953846   \n",
       "796  V0397.jpg  1155.050000   835.160000  476.217435   760.242040   \n",
       "797  V0398.jpg  1130.760000   865.070000  510.703242   826.372096   \n",
       "798  V0399.jpg  1032.000000   999.500000  430.232140   816.701711   \n",
       "799  V0400.jpg   941.870000   849.010000  259.830148   792.284755   \n",
       "\n",
       "                                            image_path  \n",
       "0    ../../fovea_detection/ADAM/AMD-Training400/Tra...  \n",
       "1    ../../fovea_detection/ADAM/AMD-Training400/Tra...  \n",
       "2    ../../fovea_detection/ADAM/AMD-Training400/Tra...  \n",
       "3    ../../fovea_detection/ADAM/AMD-Training400/Tra...  \n",
       "4    ../../fovea_detection/ADAM/AMD-Training400/Tra...  \n",
       "..                                                 ...  \n",
       "795  ../../fovea_detection/REFUGE/REFUGE-Validation...  \n",
       "796  ../../fovea_detection/REFUGE/REFUGE-Validation...  \n",
       "797  ../../fovea_detection/REFUGE/REFUGE-Validation...  \n",
       "798  ../../fovea_detection/REFUGE/REFUGE-Validation...  \n",
       "799  ../../fovea_detection/REFUGE/REFUGE-Validation...  \n",
       "\n",
       "[1581 rows x 6 columns]"
      ]
     },
     "execution_count": 12,
     "metadata": {},
     "output_type": "execute_result"
    }
   ],
   "source": [
    "# Merge all datasets\n",
    "labels = pd.concat([adam_labels, idrid_labels, refuge_labels])\n",
    "\n",
    "# Harmonize column names\n",
    "labels = labels.rename(columns={'imgName': 'image_name', 'Fovea_X': 'fovea_x', 'Fovea_Y': 'fovea_y', 'OD_X': 'od_x', 'OD_Y': 'od_y', 'path': 'image_path'})\n",
    "del labels[\"Glaucoma Label\"]\n",
    "del labels[\"mask_path\"]\n",
    "labels"
   ]
  },
  {
   "cell_type": "markdown",
   "metadata": {},
   "source": [
    "Save to file"
   ]
  },
  {
   "cell_type": "code",
   "execution_count": 15,
   "metadata": {},
   "outputs": [],
   "source": [
    "labels.to_csv(DEFAULT_CSV_PATH, index=False)"
   ]
  },
  {
   "cell_type": "code",
   "execution_count": null,
   "metadata": {},
   "outputs": [],
   "source": []
  }
 ],
 "metadata": {
  "kernelspec": {
   "display_name": "fovea",
   "language": "python",
   "name": "python3"
  },
  "language_info": {
   "codemirror_mode": {
    "name": "ipython",
    "version": 3
   },
   "file_extension": ".py",
   "mimetype": "text/x-python",
   "name": "python",
   "nbconvert_exporter": "python",
   "pygments_lexer": "ipython3",
   "version": "3.9.5"
  }
 },
 "nbformat": 4,
 "nbformat_minor": 2
}
