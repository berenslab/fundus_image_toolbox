{
 "cells": [
  {
   "cell_type": "code",
   "execution_count": 9,
   "metadata": {},
   "outputs": [],
   "source": [
    "import pickle\n",
    "import os\n",
    "import numpy as np\n",
    "import pandas as pd\n",
    "import torch\n",
    "import cv2\n",
    "import matplotlib.pyplot as plt\n",
    "from scipy.stats import beta\n",
    "from sklearn.metrics import f1_score\n",
    "from utils.notebook_utils import calibration_curve, estimate_dice_li, dice # cali-curve needed?\n",
    "from utils.notebook_utils import clahe_equalized, process_image, inference\n",
    "from utils.notebook_utils import scale_temp, apply_temperature, eval_func\n",
    "from utils.notebook_utils import scale_temp_dice, eval_func_dice\n",
    "from utils.notebook_utils import get_ensemble, error_fn, measure_uncertainty\n",
    "from utils.notebook_utils import pass_and_log, softmax, pixel_uncertainty\n",
    "from utils.model_definition import FR_UNet\n",
    "from glob import glob\n",
    "import bunch\n",
    "import yaml\n",
    "from munch import munchify\n",
    "import pickle as pkl"
   ]
  },
  {
   "cell_type": "code",
   "execution_count": 10,
   "metadata": {},
   "outputs": [],
   "source": [
    "device = torch.device('cuda' if torch.cuda.is_available() else 'cpu')"
   ]
  },
  {
   "cell_type": "code",
   "execution_count": 11,
   "metadata": {},
   "outputs": [],
   "source": [
    "with open('paths.yaml', 'r') as file0:\n",
    "        cfg_paths = munchify(yaml.load(file0, Loader=yaml.FullLoader))\n",
    "        file0.close()"
   ]
  },
  {
   "attachments": {},
   "cell_type": "markdown",
   "metadata": {},
   "source": [
    "<u> Data: </u>"
   ]
  },
  {
   "cell_type": "code",
   "execution_count": 3,
   "metadata": {},
   "outputs": [],
   "source": [
    "# Load the data\n",
    "root = cfg_paths.FIVES\n",
    "\n",
    "test_x = sorted(glob(os.path.join(root, 'test/Original/*')))\n",
    "test_y = sorted(glob(os.path.join(root, 'test/Ground truth/*')))"
   ]
  },
  {
   "cell_type": "code",
   "execution_count": 4,
   "metadata": {},
   "outputs": [],
   "source": [
    "# reconstruct train and val split\n",
    "train_x = sorted(glob(os.path.join(root, 'train/Original/*')))\n",
    "train_y = sorted(glob(os.path.join(root, 'train/Ground truth/*')))\n",
    "\n",
    "validation_split = .2\n",
    "indices = list(range(len(train_x)))\n",
    "split = int(np.floor(validation_split * len(train_x)))\n",
    "np.random.seed(23) # manually confirmed with the training script\n",
    "np.random.shuffle(indices)\n",
    "\n",
    "train_indices, val_indices = indices[split:], indices[:split]\n",
    "\n",
    "val_x = train_x[:split]\n",
    "val_y = train_y[:split]"
   ]
  },
  {
   "attachments": {},
   "cell_type": "markdown",
   "metadata": {},
   "source": [
    "<u> Models: </u>"
   ]
  },
  {
   "cell_type": "code",
   "execution_count": 7,
   "metadata": {},
   "outputs": [],
   "source": [
    "# Deep Ensembles\n",
    "ensemble_paths = 'trained/*' # hacky way to get all the models\n",
    "\n",
    "list_models = []\n",
    "for model_path in glob(ensemble_paths):\n",
    "    list_models.append(model_path)\n",
    "\n",
    "ensemble_models = get_ensemble(list_models, dropout=False, device=device)"
   ]
  },
  {
   "attachments": {},
   "cell_type": "markdown",
   "metadata": {},
   "source": [
    "<u> Forward Passes and DICE Estimation Looping over Full Test Set: </u>"
   ]
  },
  {
   "cell_type": "code",
   "execution_count": 8,
   "metadata": {},
   "outputs": [],
   "source": [
    "ensemble_dict = pass_and_log(ensemble_models, device=device, x_paths=test_x, y_paths=test_y)"
   ]
  },
  {
   "cell_type": "code",
   "execution_count": 10,
   "metadata": {},
   "outputs": [],
   "source": [
    "with open('cache/ensemble_dict.pkl', 'wb') as file:\n",
    "    pkl.dump(ensemble_dict, file)\n",
    "    file.close()"
   ]
  },
  {
   "cell_type": "markdown",
   "metadata": {},
   "source": [
    "Validation Set"
   ]
  },
  {
   "cell_type": "code",
   "execution_count": 12,
   "metadata": {},
   "outputs": [],
   "source": [
    "ensemble_dict_val = pass_and_log(ensemble_models, device=device, x_paths=val_x, y_paths=val_y)"
   ]
  },
  {
   "cell_type": "code",
   "execution_count": null,
   "metadata": {},
   "outputs": [],
   "source": [
    "with open('cache/ensemble_dict_val.pkl', 'wb') as file2:\n",
    "    pkl.dump(ensemble_dict_val, file2)\n",
    "    file2.close()"
   ]
  },
  {
   "attachments": {},
   "cell_type": "markdown",
   "metadata": {},
   "source": [
    "Post Process Ensemble Forward Passes: Compute Mean Logits and Predictions"
   ]
  },
  {
   "attachments": {},
   "cell_type": "markdown",
   "metadata": {},
   "source": [
    "### Temperature Scaling as in Li et al. (2022)"
   ]
  },
  {
   "cell_type": "code",
   "execution_count": 15,
   "metadata": {},
   "outputs": [],
   "source": [
    "T_dice_ensemble = scale_temp_dice(ensemble_dict_val['mean logits'], np.mean(ensemble_dict_val['true dice']))"
   ]
  },
  {
   "cell_type": "code",
   "execution_count": 17,
   "metadata": {},
   "outputs": [
    {
     "data": {
      "text/plain": [
       "1.4591796874999994"
      ]
     },
     "execution_count": 17,
     "metadata": {},
     "output_type": "execute_result"
    }
   ],
   "source": [
    "T_dice_ensemble"
   ]
  },
  {
   "attachments": {},
   "cell_type": "markdown",
   "metadata": {},
   "source": [
    "Apply Temperature Factor"
   ]
  },
  {
   "cell_type": "code",
   "execution_count": 20,
   "metadata": {},
   "outputs": [],
   "source": [
    "temperature_dict_ens = apply_temperature(T_dice_ensemble, ensemble_dict['mean logits'], np.array(ensemble_dict['true dice']).mean(axis=0))"
   ]
  }
 ],
 "metadata": {
  "kernelspec": {
   "display_name": "chest_x-rays",
   "language": "python",
   "name": "chest_x-rays"
  },
  "language_info": {
   "codemirror_mode": {
    "name": "ipython",
    "version": 3
   },
   "file_extension": ".py",
   "mimetype": "text/x-python",
   "name": "python",
   "nbconvert_exporter": "python",
   "pygments_lexer": "ipython3",
   "version": "3.10.8"
  },
  "orig_nbformat": 4
 },
 "nbformat": 4,
 "nbformat_minor": 2
}
